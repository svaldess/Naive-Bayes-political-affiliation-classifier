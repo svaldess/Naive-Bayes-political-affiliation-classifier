{
 "cells": [
  {
   "cell_type": "markdown",
   "metadata": {},
   "source": [
    "# Predicting political affiliation with Näive Bayes\n",
    "\n",
    "The aim is to classify and predict the political affiliation of a person. A bayesian approach is suggested. The model consists on the following steps:\n",
    "\n",
    "### 1. A vector of values is associated with each person.\n",
    "The vector consists of all numerical and/or categorical features of that given person. For example, [21, female, college] refers to age, sex, and educational degree. \n",
    "\n",
    "\n",
    "### 2. The prior and conditional probabilities were computed:\n",
    "The prior probability involves, for example, the probability of being democrat: P(democrat). The prior probabilities are stored in the form if a dictionary:\n",
    "\n",
    "        { 'Democrat': 0.3219895287958115,\n",
    "          'Independent': 0.43324607329842935,\n",
    "          'Republican': 0.24476439790575916   }\n",
    "\n",
    "\n",
    "The conditional probabilities of each feature involves the probability of the feature (for example, women) given democrat or given republican. Conditional probabilities are also stored in the form of a dictionary (numbers represeting the position of the feature in the vector):\n",
    "\n",
    "        {  'Democrat':  {1: {'Female': 0.568, 'Male': 0.4, 'unknown': 0.008, 'Other': 0.024},\n",
    "                        {2: {.....}, }\n",
    "          'Republican': {1: {'Female': 0.465,'Male': 0.497,'Other': 0.026},\n",
    "                        {2: {.....}, } }\n",
    "                      \n",
    "\n",
    "In the case of categorical features, the posterior probability is found by multiplying the prior and the conditional. \n",
    "\n",
    "\n",
    "### 3. The posterior probability was computed:\n",
    "The posterior probability is calculated as the product of the prior and the conditional probability.\n",
    "\n",
    "        P(democrat|D) = P(D|democrat)*P(democrat)\n",
    "                        _________________________\n",
    "                                  P(D)\n",
    "\n",
    "In the case of numeric features, the **probability density function** was calculated.\n",
    "\n",
    "\n",
    "A **10-fold cross validation method** was computed to train and test the data and the **accuracy** was calculated. Finally, the results of the classification can be seen in a **confusion matrix**.\n",
    "\n",
    "### Datasets\n",
    "\n",
    "1. Political affiliation of a congressperson based on voting records of bills in the U.S. Congress. Each feature take 3 values: yes, no, or abstention (?). The bills' topics include: immigration, religion in schools, foreign aid, education spending, etc. Source of the [dataset](https://www.kaggle.com/devvret/congressional-voting-records).\n",
    "2. Political affiliation of a person based on features such as income, gender, race, as well as opinions regarding Trump's administration, climate change, federal funding of scientific research, the use of vaccines on children, the total number of books read during last year, among others. Source of the [dataset](https://www.kaggle.com/cardsagainsthumanity/pulse-of-the-nation?select=201709-CAH_PulseOfTheNation.csv).\n"
   ]
  },
  {
   "cell_type": "markdown",
   "metadata": {},
   "source": [
    "## Model"
   ]
  },
  {
   "cell_type": "code",
   "execution_count": 82,
   "metadata": {},
   "outputs": [],
   "source": [
    "import math\n",
    "\n",
    "class NaiveBayesClassifier:\n",
    "    \n",
    "    def __init__(self, filepath, testBucketNum, dataFormat):\n",
    "        \n",
    "        totalRows = 0\n",
    "\n",
    "        # Categorical data\n",
    "        classesCount = {} # total classes\n",
    "        attributesCount = {} # total attr per class\n",
    "\n",
    "        # Numerical data\n",
    "        numericTotals = {} # {cat1: {col1:x, col2:x}, cat2: { ... }} -> used for mean\n",
    "        numericValues = {} # {cat1: {col1:[x,x3,x3,x4], cat2:[...] }} -> used for ssd\n",
    "        \n",
    "        # format\n",
    "        self.format = dataFormat.strip().split('\\t')\n",
    "        \n",
    "        # Probabilities\n",
    "        self.prior = {}\n",
    "        self.conditionals = {}\n",
    "\n",
    "        # 10-fold method \n",
    "        for i in range(1,11):\n",
    "            if i != testBucketNum:\n",
    "                filename = \"%s-%02i\" % (filepath, i)\n",
    "                f = open(filename)\n",
    "                lines = f.readlines()\n",
    "                f.close()\n",
    "\n",
    "                # process training files \n",
    "                for line in lines:\n",
    "                    fields = line.strip().split('\\t')\n",
    "                    attrVector = []\n",
    "                    numVector = []\n",
    "                    for i in range(len(fields)):\n",
    "                        if len(fields) == len(self.format):\n",
    "                            if self.format[i] == 'num':\n",
    "                                numVector.append(float(fields[i]))\n",
    "                            elif self.format[i] == 'attr':\n",
    "                                attrVector.append(fields[i])\n",
    "                            elif self.format[i] == 'class':\n",
    "                                category = fields[i]\n",
    "                        else:\n",
    "                            continue\n",
    "                    # Count row    \n",
    "                    totalRows += 1 \n",
    "\n",
    "                    # initialize dictionaries\n",
    "                    classesCount.setdefault(category,0)\n",
    "                    attributesCount.setdefault(category,{})\n",
    "                    numericTotals.setdefault(category, {})\n",
    "                    numericValues.setdefault(category, {})\n",
    "\n",
    "                    # count category \n",
    "                    classesCount[category] += 1\n",
    "\n",
    "                    # count attributes of each category\n",
    "                    col = 0\n",
    "                    for columnValue in attrVector:\n",
    "                        col += 1\n",
    "                        attributesCount[category].setdefault(col, {})\n",
    "                        attributesCount[category][col].setdefault(columnValue, 0)\n",
    "                        attributesCount[category][col][columnValue] += 1\n",
    "\n",
    "                    # count numeric data        \n",
    "                    col = 0\n",
    "                    for columnValue in numVector:\n",
    "                        col += 1\n",
    "                        numericTotals[category].setdefault(col, 0)\n",
    "                        numericTotals[category][col] += columnValue\n",
    "                        numericValues[category].setdefault(col, [])\n",
    "                        numericValues[category][col].append(columnValue)\n",
    "\n",
    "        #-----------------------------------#\n",
    "        #          Probabilities            #\n",
    "        #-----------------------------------#\n",
    "        # prior probabilities of the categories\n",
    "        for key, value in classesCount.items():\n",
    "            self.prior[key] = value / totalRows \n",
    "\n",
    "        # Compute conditional probabilities of the attributes of the categories\n",
    "        # a) level category\n",
    "        for k,v in attributesCount.items():\n",
    "            self.conditionals.setdefault(k,{})\n",
    "            # b) level column number\n",
    "            for k2,v2 in v.items(): \n",
    "                self.conditionals[k].setdefault(k2,{})\n",
    "                # Avoid that a zero dominates the calculation. For this, the conditional probability will be adjusted as:\n",
    "                # the sum of P(attribute|class) + mp divided by the sum of P(class) + m\n",
    "                # where m is the number of values an attribute can take\n",
    "                # and p is the probability of the values (assuming uniform probability)\n",
    "                # Thus if the attribute can take 2 values, m=2 and p=1/2.\n",
    "                m = len(v2) \n",
    "                probability_m = 1 / m \n",
    "                # c) level attribute \n",
    "                for k3,v3 in v2.items():\n",
    "                    self.conditionals[k][k2].setdefault(k3,0)\n",
    "                    #self.conditionals[k][k2][k3] = v3 / classesCount[k]\n",
    "                    self.conditionals[k][k2][k3] = (v3 + (m*probability_m)) / (classesCount[k] + m)\n",
    "\n",
    "        self.tmp = attributesCount\n",
    "\n",
    "        #-----------------------------------#\n",
    "        #      Mean and standard dev        #\n",
    "        #-----------------------------------#\n",
    "        self.means = {}\n",
    "        self.ssd = {}\n",
    "\n",
    "        # mean\n",
    "        for k,v in numericTotals.items():\n",
    "            self.means.setdefault(k, {})\n",
    "            for k2,v2 in v.items():\n",
    "                if v2 != 0:\n",
    "                    self.means[k][k2] = v2 / classesCount[k]\n",
    "\n",
    "        # sample standard deviation\n",
    "        # formula -> sqrt of ( ∑(x-mean)^2 ) / ( n-1 ) \n",
    "        for k,v in numericValues.items():\n",
    "            self.ssd.setdefault(k, {})\n",
    "            for k2,v2 in v.items(): # where v2 is a list with values\n",
    "                if v2 != 0:\n",
    "                    numerator = 0\n",
    "                    meanValue = self.means[k][k2] # mean of category and column\n",
    "                    for value in v2:\n",
    "                        numerator += (value - meanValue)**2\n",
    "                    v[k2] = 0\n",
    "                    self.ssd[k][k2] = math.sqrt(numerator / (classesCount[k]-1))\n",
    "\n",
    "    #-----------------------------------#\n",
    "    #             Classify              #\n",
    "    #-----------------------------------#\n",
    "    def classify(self, attrVector, numVector):\n",
    "        results = []\n",
    "        sqrt2pi = math.sqrt(2 * math.pi)\n",
    "        # for each category\n",
    "        for k,v in self.prior.items():\n",
    "            prob = v # prior probability\n",
    "            # attrVector\n",
    "            col = 1 \n",
    "            for attribute in attrVector:\n",
    "                if not attribute in self.conditionals[k][col]:\n",
    "                    prob = 0\n",
    "                else:\n",
    "                    prob = self.conditionals[k][col][attribute] * prob\n",
    "                col +=1 \n",
    "            \n",
    "            col = 1\n",
    "            for num in numVector:\n",
    "                mean = self.means[k][col]\n",
    "                ssd = self.ssd[k][col]\n",
    "                # calculate probability density function\n",
    "                ePart = math.pow(math.e, -(num - mean)**2/(2*ssd**2))\n",
    "                prob = prob * ((1.0 / (sqrt2pi*ssd)) * ePart)\n",
    "                col += 1\n",
    "\n",
    "            results.append((prob, k))\n",
    "\n",
    "        # return category with the highest probability\n",
    "        return max(results)[1]\n",
    "\n",
    "    #-----------------------------------#\n",
    "    #             testData              #\n",
    "    #-----------------------------------#\n",
    "    def testData(self, filepath, testBucketNum):\n",
    "        filename = \"%s-%02i\" % (filepath, testBucketNum)\n",
    "        f = open(filename)\n",
    "        lines = f.readlines()\n",
    "        f.close()\n",
    "\n",
    "        a = [] #actual\n",
    "        p = [] # predicted\n",
    "        corrects = 0\n",
    "\n",
    "        for line in lines:\n",
    "            fields = line.strip().split('\\t')\n",
    "            attrVector = []\n",
    "            numVector = []\n",
    "            classInColumn = -1\n",
    "            for i in range(len(fields)):\n",
    "                if len(fields) == len(self.format):\n",
    "                    if self.format[i] == 'num':\n",
    "                        numVector.append(float(fields[i]))\n",
    "                    elif self.format[i] == 'attr':\n",
    "                        attrVector.append(fields[i])\n",
    "                    elif self.format[i] == 'class':\n",
    "                        classInColumn = i\n",
    "                else:\n",
    "                    continue\n",
    "            realClass = fields[classInColumn]\n",
    "            predictedClass = self.classify(attrVector, numVector)\n",
    "            if realClass == predictedClass:\n",
    "                corrects += 1\n",
    "\n",
    "            a.append(realClass)\n",
    "            p.append(predictedClass)\n",
    "\n",
    "        return a, p, corrects\n",
    "\n",
    "#--------- Outside class -----------#\n",
    "#-----------------------------------#\n",
    "#     10-fold cross validation      #\n",
    "#-----------------------------------#\n",
    "\n",
    "def tenfold(filepath, dataFormat):\n",
    "    total_a = [] #list of lists\n",
    "    total_p = [] #list of lists\n",
    "    total_corrects = 0\n",
    "  \n",
    "    for i in range(1,11):\n",
    "        classifier = NaiveBayesClassifier(filepath, i, dataFormat)\n",
    "        a, p, corrects = classifier.testData(filepath, i)\n",
    "        total_a.append(a)\n",
    "        total_p.append(p)\n",
    "        total_corrects += corrects\n",
    "\n",
    "    actual = [i for l in total_a for i in l] #list reduction\n",
    "    predicted = [i for l in total_p for i in l] #list reduction\n",
    "\n",
    "    if len(actual) == len(predicted):\n",
    "        accuracy = total_corrects/len(actual) *100\n",
    "        return actual, predicted, accuracy\n",
    "    else:\n",
    "        return \"Error: number of predictions is different from actual\""
   ]
  },
  {
   "cell_type": "markdown",
   "metadata": {},
   "source": [
    "## Dataset 1: U.S. Congressional voting records"
   ]
  },
  {
   "cell_type": "code",
   "execution_count": 92,
   "metadata": {},
   "outputs": [
    {
     "data": {
      "text/plain": [
       "90.11494252873563"
      ]
     },
     "execution_count": 92,
     "metadata": {},
     "output_type": "execute_result"
    }
   ],
   "source": [
    "filepath = \"./data/house_votes/hv\"\n",
    "dataFormat = \"class\\tattr\\tattr\\tattr\\tattr\\tattr\\tattr\\tattr\\tattr\\tattr\\tattr\\tattr\\tattr\\tattr\\tattr\\tattr\\tattr\"\n",
    "actual, predicted, accuracy = tenfold(filepath, dataFormat)\n",
    "accuracy"
   ]
  },
  {
   "cell_type": "code",
   "execution_count": 84,
   "metadata": {},
   "outputs": [
    {
     "data": {
      "image/png": "[encoded data removed]",
      "text/plain": [
       "<Figure size 720x576 with 2 Axes>"
      ]
     },
     "metadata": {
      "needs_background": "light"
     },
     "output_type": "display_data"
    }
   ],
   "source": [
    "# create confusion matrix\n",
    "import pandas as pd\n",
    "import seaborn as sn\n",
    "import matplotlib.pyplot as plt\n",
    "\n",
    "y_actual = pd.Series(actual, name='Real')\n",
    "y_predicted = pd.Series(predicted, name='Prediction')\n",
    "confusion_matrix = pd.crosstab(y_actual, y_predicted)\n",
    "\n",
    "fig, ax = plt.subplots(figsize=(10,8))\n",
    "sn.heatmap(confusion_matrix, annot=True, cmap=\"YlGnBu\",fmt='g')\n",
    "plt.show()"
   ]
  },
  {
   "cell_type": "markdown",
   "metadata": {},
   "source": [
    "## Dataset 2: Political affiliation predictor\n",
    "\n",
    "With an accuracy of 53%, predicting political affiliation is more difficult. The problem is with independents, which are more difficult to predict correctly. If we take a look at the confusion matrix, most of the democrats were correctly labeled as democrats; however, 41% of the people were labeled as democrats when, in reality, they were independent. Interestingly, the model tends to classify an independent as democrat more often than as a republican. \n",
    "\n",
    "Some ideas to fix the model: 1) Perform feature selection (some features might have more weight when it comes to predicting democrats and republicans). 2) Take a look at the model without independents."
   ]
  },
  {
   "cell_type": "code",
   "execution_count": 114,
   "metadata": {},
   "outputs": [],
   "source": [
    "filepath = \"./data/public_opinion/data\"\n",
    "dataFormat = \"class\\tnum\\tattr\\tnum\\tattr\\tattr\\tattr\\tattr\\tattr\\tattr\\tattr\\tattr\\tnum\\tattr\\tattr\"\n",
    "actual, predicted, accuracy = tenfold(filepath, dataFormat)"
   ]
  },
  {
   "cell_type": "markdown",
   "metadata": {},
   "source": [
    "### Accuracy"
   ]
  },
  {
   "cell_type": "code",
   "execution_count": 115,
   "metadata": {},
   "outputs": [
    {
     "data": {
      "text/plain": [
       "52.8235294117647"
      ]
     },
     "execution_count": 115,
     "metadata": {},
     "output_type": "execute_result"
    }
   ],
   "source": [
    "accuracy"
   ]
  },
  {
   "cell_type": "markdown",
   "metadata": {},
   "source": [
    "### Prior probabilities"
   ]
  },
  {
   "cell_type": "code",
   "execution_count": 116,
   "metadata": {},
   "outputs": [
    {
     "data": {
      "text/plain": [
       "{'Democrat': 0.3219895287958115,\n",
       " 'Independent': 0.43324607329842935,\n",
       " 'Republican': 0.24476439790575916}"
      ]
     },
     "execution_count": 116,
     "metadata": {},
     "output_type": "execute_result"
    }
   ],
   "source": [
    "testBucketNum = 1\n",
    "classifier = NaiveBayesClassifier(filepath, testBucketNum, dataFormat)\n",
    "classifier.prior"
   ]
  },
  {
   "cell_type": "markdown",
   "metadata": {},
   "source": [
    "### Conditional probabilities"
   ]
  },
  {
   "cell_type": "code",
   "execution_count": 137,
   "metadata": {},
   "outputs": [
    {
     "data": {
      "text/plain": [
       "0.568"
      ]
     },
     "execution_count": 137,
     "metadata": {},
     "output_type": "execute_result"
    }
   ],
   "source": [
    "# P(Female|Democrat)\n",
    "classifier.conditionals['Democrat'][1]['Female']"
   ]
  },
  {
   "cell_type": "code",
   "execution_count": 118,
   "metadata": {},
   "outputs": [
    {
     "data": {
      "text/plain": [
       "0.6269430051813472"
      ]
     },
     "execution_count": 118,
     "metadata": {},
     "output_type": "execute_result"
    }
   ],
   "source": [
    "#P(Married|Republican)\n",
    "classifier.conditionals['Republican'][5]['Married']"
   ]
  },
  {
   "cell_type": "code",
   "execution_count": 119,
   "metadata": {},
   "outputs": [
    {
     "data": {
      "text/plain": [
       "0.2670157068062827"
      ]
     },
     "execution_count": 119,
     "metadata": {},
     "output_type": "execute_result"
    }
   ],
   "source": [
    "#P(Believe that climate change is not real|Republican)\n",
    "classifier.conditionals['Republican'][7]['NotReal']"
   ]
  },
  {
   "cell_type": "code",
   "execution_count": 120,
   "metadata": {},
   "outputs": [
    {
     "data": {
      "text/plain": [
       "0.064"
      ]
     },
     "execution_count": 120,
     "metadata": {},
     "output_type": "execute_result"
    }
   ],
   "source": [
    "#P(Believe that climate change is not real|Democrat)\n",
    "classifier.conditionals['Democrat'][7]['NotReal']"
   ]
  },
  {
   "cell_type": "markdown",
   "metadata": {},
   "source": [
    "### Confusion Matrix"
   ]
  },
  {
   "cell_type": "code",
   "execution_count": 121,
   "metadata": {},
   "outputs": [
    {
     "data": {
      "image/png": "[encoded data removed]",
      "text/plain": [
       "<Figure size 720x576 with 2 Axes>"
      ]
     },
     "metadata": {
      "needs_background": "light"
     },
     "output_type": "display_data"
    }
   ],
   "source": [
    "# create confusion matrix\n",
    "import pandas as pd\n",
    "import seaborn as sn\n",
    "import matplotlib.pyplot as plt\n",
    "\n",
    "y_actual = pd.Series(actual, name='Real')\n",
    "y_predicted = pd.Series(predicted, name='Prediction')\n",
    "confusion_matrix = pd.crosstab(y_actual, y_predicted)\n",
    "\n",
    "fig, ax = plt.subplots(figsize=(10,8))\n",
    "sn.heatmap(confusion_matrix, annot=True, cmap=\"YlGnBu\",fmt='g')\n",
    "plt.show()"
   ]
  },
  {
   "cell_type": "markdown",
   "metadata": {},
   "source": [
    "### Predicting a specific profile\n",
    "\n",
    "Let's predict the political affiliation of a person with the next profile:\n",
    "Income of 83000, male, has 39 years old, somewhat disapprove how Trump is handling his job, has some college education, he is latino, single, he thinks it is unlikely that robots will take his job in the future, thinks climate change is real but not caused by people, strongly disagrees with the assertion that scientists are honest, strongly agrees that vaccines benefit children, has read an average of 4 books in the last year, does not have an opinion about the amount of federal budget allocated to scientific research and does not believe in ghosts."
   ]
  },
  {
   "cell_type": "code",
   "execution_count": 132,
   "metadata": {},
   "outputs": [],
   "source": [
    "testattrVector = [\"male\",\"SomewhatDisapprove\",\"SomeCollege\",\"Latino\",\"Single\",\"Unlikely\",\"RealNotCausedbyPeople\",\"StronglyDisagree\",\"StronglyAgree\",\"unknown\",\"No\"]\n",
    "testnumVector = [83000,39,4]\n"
   ]
  },
  {
   "cell_type": "code",
   "execution_count": 133,
   "metadata": {},
   "outputs": [
    {
     "data": {
      "text/plain": [
       "'Republican'"
      ]
     },
     "execution_count": 133,
     "metadata": {},
     "output_type": "execute_result"
    }
   ],
   "source": [
    "classifier.classify(testattrVector, testnumVector)"
   ]
  }
 ],
 "metadata": {
  "kernelspec": {
   "display_name": "Python 3",
   "language": "python",
   "name": "python3"
  },
  "language_info": {
   "codemirror_mode": {
    "name": "ipython",
    "version": 3
   },
   "file_extension": ".py",
   "mimetype": "text/x-python",
   "name": "python",
   "nbconvert_exporter": "python",
   "pygments_lexer": "ipython3",
   "version": "3.7.6"
  }
 },
 "nbformat": 4,
 "nbformat_minor": 4
}
